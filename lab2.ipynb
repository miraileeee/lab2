{
 "cells": [
  {
   "cell_type": "markdown",
   "metadata": {},
   "source": [
    "Boolean values"
   ]
  },
  {
   "cell_type": "code",
   "execution_count": null,
   "metadata": {},
   "outputs": [],
   "source": [
    "print(1 > -1)\n",
    "print (1 == -1)\n",
    "print (1 < -1)\n",
    "\n",
    "a = 6\n",
    "b = 144\n",
    "if b > a:\n",
    "    print (\"b is greater than a\")\n",
    "else:\n",
    "    print(\"a is greater than b\")"
   ]
  },
  {
   "cell_type": "markdown",
   "metadata": {},
   "source": [
    "Evaluating values/variables"
   ]
  },
  {
   "cell_type": "code",
   "execution_count": null,
   "metadata": {},
   "outputs": [],
   "source": [
    "a = \"a\"\n",
    "b = 123\n",
    "c = [\"a\", \"b\", \"c\"]\n",
    "print(bool(a))\n",
    "print(bool(b))\n",
    "print(bool(c))"
   ]
  },
  {
   "cell_type": "markdown",
   "metadata": {},
   "source": [
    "False values"
   ]
  },
  {
   "cell_type": "code",
   "execution_count": null,
   "metadata": {},
   "outputs": [],
   "source": [
    "print(bool(False))\n",
    "print(bool())\n",
    "print(bool({}))\n",
    "print(bool([]))\n",
    "print(bool(0))\n",
    "print(bool(None))\n",
    "print(bool(\"\"))"
   ]
  },
  {
   "cell_type": "markdown",
   "metadata": {},
   "source": [
    "__len__ class"
   ]
  },
  {
   "cell_type": "code",
   "execution_count": null,
   "metadata": {},
   "outputs": [],
   "source": [
    "class mine():\n",
    "    def __len__(self):\n",
    "        return 0\n",
    "me = mine()\n",
    "print(bool(me))"
   ]
  },
  {
   "cell_type": "markdown",
   "metadata": {},
   "source": [
    "Boolean function"
   ]
  },
  {
   "cell_type": "code",
   "execution_count": null,
   "metadata": {},
   "outputs": [],
   "source": [
    "def myfunc():\n",
    "    return True\n",
    "if myfunc():\n",
    "    print(\"yay\")\n",
    "else:\n",
    "    print(\"nay\")"
   ]
  },
  {
   "cell_type": "markdown",
   "metadata": {},
   "source": [
    "isinstance() function"
   ]
  },
  {
   "cell_type": "code",
   "execution_count": null,
   "metadata": {},
   "outputs": [],
   "source": [
    "a = \"a\"\n",
    "print(isinstance(a, str))"
   ]
  },
  {
   "cell_type": "markdown",
   "metadata": {},
   "source": [
    "Operators"
   ]
  },
  {
   "cell_type": "code",
   "execution_count": null,
   "metadata": {},
   "outputs": [],
   "source": [
    "a = 2\n",
    "b = 6\n",
    "print(a**b)      #power\n",
    "print(b//a)      #to the nearest whole number\n",
    "\n",
    "b /= a\n",
    "print(b)\n",
    "b = 6\n",
    "b *= a\n",
    "print(b)\n",
    "b = 6\n",
    "b %= 4\n",
    "print(b)\n",
    "b = 6\n",
    "b //= a\n",
    "print(b)\n",
    "b = 6\n",
    "b **= a\n",
    "print(b)\n",
    "b = 6"
   ]
  },
  {
   "cell_type": "markdown",
   "metadata": {},
   "source": [
    "Bitwise operators"
   ]
  },
  {
   "cell_type": "code",
   "execution_count": null,
   "metadata": {},
   "outputs": [],
   "source": [
    "b = 6\n",
    "a = 2\n",
    "b &= a         #AND\n",
    "print(b)\n",
    "b = 6\n",
    "b |= a         #OR\n",
    "print(b)\n",
    "b = 6\n",
    "b ^= a         #XOR\n",
    "print(b)\n",
    "b = 6\n",
    "b >>= a        #right shift\n",
    "print(b)\n",
    "b = 6 \n",
    "b <<= a        #left shift\n",
    "print(b)\n",
    "b = 6\n",
    "print(~b)      #invert"
   ]
  },
  {
   "cell_type": "markdown",
   "metadata": {},
   "source": [
    "Logical, identity, membership operators"
   ]
  },
  {
   "cell_type": "code",
   "execution_count": null,
   "metadata": {},
   "outputs": [],
   "source": [
    "a = 6\n",
    "print(a > 4 and a < 7)\n",
    "print(a > 7 or a > 5)\n",
    "print(not(a < 5 and a < 7))"
   ]
  },
  {
   "cell_type": "code",
   "execution_count": null,
   "metadata": {},
   "outputs": [],
   "source": [
    "a = [\"x\", \"y\"]\n",
    "b = [\"x\", \"y\"]\n",
    "c = a\n",
    "print(a is c)\n",
    "print(a is b)\n",
    "print(a == b)\n",
    "\n",
    "print(\"x\" in c)\n",
    "print(\"y\" not in b)"
   ]
  },
  {
   "cell_type": "markdown",
   "metadata": {},
   "source": [
    "Lists (ordered, changeable)"
   ]
  },
  {
   "cell_type": "code",
   "execution_count": null,
   "metadata": {},
   "outputs": [],
   "source": [
    "melist = [\"a\", 21, False, \"b\", \"b\", \"c\"]\n",
    "print(len(melist))\n",
    "print(type(melist))\n",
    "print(melist[2])\n",
    "print(melist[-1])\n",
    "print(melist[1:4])\n",
    "print(melist[:4])\n",
    "print(melist[3:])\n",
    "print(melist[-4:-1])\n",
    "print(\"c\" in melist)"
   ]
  },
  {
   "cell_type": "markdown",
   "metadata": {},
   "source": [
    "Change list"
   ]
  },
  {
   "cell_type": "code",
   "execution_count": null,
   "metadata": {},
   "outputs": [],
   "source": [
    "melist = [\"a\", \"b\", \"c\", \"e\"]\n",
    "melist[0:2] = [\"f\", \"o\"]\n",
    "print(melist)\n",
    "melist.insert(3, \"us\")\n",
    "print(melist)\n",
    "melist.append(\"d\")\n",
    "print(melist)\n",
    "foclist = [\"m\", \"e\"]\n",
    "melist.extend(foclist)\n",
    "print(melist)\n",
    "melist.remove(\"m\")\n",
    "melist.pop(6)\n",
    "print(melist)\n",
    "del melist[3]\n",
    "print(melist)\n",
    "melist.clear()\n",
    "print(melist)\n",
    "del melist\n"
   ]
  },
  {
   "cell_type": "markdown",
   "metadata": {},
   "source": [
    "Loop through a list"
   ]
  },
  {
   "cell_type": "code",
   "execution_count": 77,
   "metadata": {},
   "outputs": [
    {
     "name": "stdout",
     "output_type": "stream",
     "text": [
      "a\n",
      "b\n",
      "c\n",
      "a\n",
      "b\n",
      "c\n"
     ]
    }
   ],
   "source": [
    "melist = [\"a\", \"b\", \"c\"]\n",
    "for x in melist:\n",
    "    print(x)\n",
    "\n",
    "for i in range(len(melist)):\n",
    "    print(melist[i])\n",
    "\n"
   ]
  }
 ],
 "metadata": {
  "kernelspec": {
   "display_name": "Python 3",
   "language": "python",
   "name": "python3"
  },
  "language_info": {
   "codemirror_mode": {
    "name": "ipython",
    "version": 3
   },
   "file_extension": ".py",
   "mimetype": "text/x-python",
   "name": "python",
   "nbconvert_exporter": "python",
   "pygments_lexer": "ipython3",
   "version": "3.13.1"
  }
 },
 "nbformat": 4,
 "nbformat_minor": 2
}
